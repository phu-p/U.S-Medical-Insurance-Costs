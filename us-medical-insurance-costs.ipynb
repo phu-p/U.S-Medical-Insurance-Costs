{
 "cells": [
  {
   "cell_type": "markdown",
   "metadata": {},
   "source": [
    "# U.S. Medical Insurance Costs"
   ]
  },
  {
   "cell_type": "code",
   "execution_count": 54,
   "metadata": {},
   "outputs": [
    {
     "name": "stdout",
     "output_type": "stream",
     "text": [
      "The average age of all (1338) patients is 39.0\n"
     ]
    }
   ],
   "source": [
    "#############################\n",
    "#### Descriptive Analysis ###\n",
    "#############################\n",
    "\n",
    "import csv\n",
    "\n",
    "# Find out the average age of the patients\n",
    "def find_average_age_of_patients (list):\n",
    "    total = 0\n",
    "    sum = 0\n",
    "    for sublist in list:\n",
    "        sum += int(sublist['age'])\n",
    "        total += 1\n",
    "    average = round(sum / total, 0)\n",
    "    return print('The average age of all ('+str(total)+') patients is ' + str(average))\n",
    "    \n",
    "\n",
    "with open('insurance.csv') as insurance_file:\n",
    "    insurance_list = csv.DictReader(insurance_file)\n",
    "    find_average_age_of_patients(insurance_list)\n",
    "    "
   ]
  },
  {
   "cell_type": "code",
   "execution_count": 55,
   "metadata": {},
   "outputs": [
    {
     "name": "stdout",
     "output_type": "stream",
     "text": [
      "The average age of (764) patients with at least one child is 40.0\n"
     ]
    }
   ],
   "source": [
    "#############################\n",
    "#### Descriptive Analysis ###\n",
    "#############################\n",
    "\n",
    "# Figure out what the average age is for someone who has at least one child\n",
    "def find_average_age_with_at_least_one_child(list):\n",
    "    # find the patient who has at least one child\n",
    "    # then add the age to a sum variable\n",
    "    # also increment a total variable\n",
    "    # take the sum divide the total variable\n",
    "    # return the average\n",
    "    total = 0\n",
    "    sum = 0\n",
    "    for sublist in list:\n",
    "        if int(sublist['children']) > 0:\n",
    "            sum += int(sublist['age'])\n",
    "            total += 1\n",
    "    average = round(sum / total, 0)\n",
    "    return print('The average age of ('+str(total)+') patients with at least one child is ' + str(average))\n",
    "\n",
    "with open('insurance.csv') as insurance_file:\n",
    "    insurance_list = csv.DictReader(insurance_file)\n",
    "    find_average_age_with_at_least_one_child(insurance_list)\n",
    "    "
   ]
  },
  {
   "cell_type": "code",
   "execution_count": 56,
   "metadata": {},
   "outputs": [
    {
     "name": "stdout",
     "output_type": "stream",
     "text": [
      "The average age of (574) patients with no child is 38.0\n"
     ]
    }
   ],
   "source": [
    "#############################\n",
    "#### Descriptive Analysis ###\n",
    "#############################\n",
    "\n",
    "# Figure out what the average age is for someone who has no child\n",
    "def find_average_age_with_no_child(list):\n",
    "    total = 0\n",
    "    sum = 0\n",
    "    for sublist in list:\n",
    "        if int(sublist['children']) == 0:\n",
    "            sum += int(sublist['age'])\n",
    "            total += 1\n",
    "    average = round(sum / total, 0)\n",
    "    return  print('The average age of ('+str(total)+') patients with no child is ' + str(average))\n",
    "\n",
    "with open('insurance.csv') as insurance_file:\n",
    "    insurance_list = csv.DictReader(insurance_file)\n",
    "    find_average_age_with_no_child(insurance_list)\n",
    "   "
   ]
  },
  {
   "cell_type": "code",
   "execution_count": 46,
   "metadata": {},
   "outputs": [
    {
     "name": "stdout",
     "output_type": "stream",
     "text": [
      "325 patients are from southwest.\n",
      "364 patients are from southeast.\n",
      "325 patients are from northwest.\n",
      "324 patients are from northeast.\n"
     ]
    }
   ],
   "source": [
    "#############################\n",
    "#### Descriptive Analysis ###\n",
    "#############################\n",
    "\n",
    "import csv\n",
    "\n",
    "# Analyze where patients are from:\n",
    "def find_patients_locations():\n",
    "    locations = {}\n",
    "    # Transfer the list of possible locations to a list\n",
    "    # Count the locations list of the duplicate locations\n",
    "    for region in insurance_file:\n",
    "        if locations.get(region['region']) is None:\n",
    "            locations[region['region']] = 1 \n",
    "        else:\n",
    "            locations[region['region']] += 1\n",
    "    return locations\n",
    "    \n",
    "with open('insurance.csv') as insurance_file:\n",
    "    insurance_data = csv.DictReader(insurance_file)\n",
    "    locations_of_patients = find_patients_locations(insurance_file)\n",
    "    for key, value in locations_of_patients.items():\n",
    "        print(str(value) + ' patients are from ' + key + '.')"
   ]
  },
  {
   "cell_type": "code",
   "execution_count": 6,
   "metadata": {},
   "outputs": [
    {
     "name": "stdout",
     "output_type": "stream",
     "text": [
      "Severe thinness BMI's average insurance cost is $1694.80, with 1 patients in this range.\n",
      "Moderate thinness BMI's average insurance cost is $4904.00, with 2 patients in this range.\n",
      "Mild thinness BMI's average insurance cost is $9737.72, with 17 patients in this range.\n",
      "Normal BMI's average insurance cost is $10409.34, with 225 patients in this range.\n",
      "Overweight BMI's average insurance cost is $10987.51, with 386 patients in this range.\n",
      "Obese class 1 BMI's average insurance cost is $14419.67, with 391 patients in this range.\n",
      "Obese class 2 BMI's average insurance cost is $17022.26, with 225 patients in this range.\n",
      "Obese class 3 BMI's average insurance cost is $16784.62, with 91 patients in this range.\n",
      "From these conclusions, we can see that the outliers like severe thinness and obese bmis tend to have higher insurance costs.\n"
     ]
    }
   ],
   "source": [
    "#############################\n",
    "#### Exploratory Analysis ###\n",
    "#############################\n",
    "\n",
    "import csv\n",
    "\n",
    "# Analyze whether higher bmi will cause higher charges\n",
    "# Since we don't have heights or weights info from patients, use below ranges for analyzing\n",
    "# < 16 = severe thinnes\n",
    "# 16-17 = moderate thinnes\n",
    "# 17-18.5 = mild thinnes\n",
    "# 18.5-25 = normal\n",
    "# 25-30 = overweight\n",
    "# 30-35 = obese class 1\n",
    "# 35-40 = obese class 2\n",
    "# > 40 = obese class 3\n",
    "# note: remember to use multiply everything by 100\n",
    "import csv\n",
    "\n",
    "def analyze_bmi_insurance_correlation(data):\n",
    "    categories = {\n",
    "        'severe thinness': 0,\n",
    "        'moderate thinness': 0,\n",
    "        'mild thinness': 0,\n",
    "        'normal': 0,\n",
    "        'overweight': 0,\n",
    "        'obese class 1': 0,\n",
    "        'obese class 2': 0,\n",
    "        'obese class 3': 0\n",
    "    }\n",
    "    \n",
    "    counts = {\n",
    "        'severe thinness': 0,\n",
    "        'moderate thinness': 0,\n",
    "        'mild thinness': 0,\n",
    "        'normal': 0,\n",
    "        'overweight': 0,\n",
    "        'obese class 1': 0,\n",
    "        'obese class 2': 0,\n",
    "        'obese class 3': 0\n",
    "    }\n",
    "\n",
    "    for sublist in data:\n",
    "        bmi = float(sublist['bmi'])\n",
    "        charges = float(sublist['charges'])\n",
    "\n",
    "        if bmi < 16:\n",
    "            category = 'severe thinness'\n",
    "        elif 16 <= bmi < 17:\n",
    "            category = 'moderate thinness'\n",
    "        elif 17 <= bmi < 18.5:\n",
    "            category = 'mild thinness'\n",
    "        elif 18.5 <= bmi < 25:\n",
    "            category = 'normal'\n",
    "        elif 25 <= bmi < 30:\n",
    "            category = 'overweight'\n",
    "        elif 30 <= bmi < 35:\n",
    "            category = 'obese class 1'\n",
    "        elif 35 <= bmi < 40:\n",
    "            category = 'obese class 2'\n",
    "        else:\n",
    "            category = 'obese class 3'\n",
    "        \n",
    "        categories[category] += charges\n",
    "        counts[category] += 1\n",
    "\n",
    "    for category in categories:\n",
    "        if counts[category] > 0:\n",
    "            average = categories[category] / counts[category]\n",
    "            print(f\"{category.capitalize()} BMI's average insurance cost is ${average:.2f}, with {counts[category]} patients in this range.\")\n",
    "        else:\n",
    "            print(f\"No patients in {category.capitalize()} BMI range.\")\n",
    "\n",
    "with open('insurance.csv') as insurance_file:\n",
    "    insurance_data = csv.DictReader(insurance_file)\n",
    "    analyze_bmi_insurance_correlation(insurance_data)\n",
    "    print('From these conclusions, we can see that the outliers like severe thinness and obese bmis tend to have higher insurance costs.')\n"
   ]
  },
  {
   "cell_type": "code",
   "execution_count": 5,
   "metadata": {},
   "outputs": [
    {
     "name": "stdout",
     "output_type": "stream",
     "text": [
      "764 of patients with children has an average insurance costs of $13949.94\n",
      "574 of patients with no children has an average insurance costs of $12365.98\n"
     ]
    }
   ],
   "source": [
    "#############################\n",
    "#### Exploratory Analysis ###\n",
    "#############################\n",
    "\n",
    "import csv\n",
    "\n",
    "# Analyze whether having children will cause higher charges\n",
    "def analyze_children_insurance_correlation(data):\n",
    "    categories = {\n",
    "        'children': 0,\n",
    "        'no children': 0\n",
    "    }\n",
    "\n",
    "    count = {\n",
    "        'children': 0,\n",
    "        'no children': 0\n",
    "    }\n",
    "\n",
    "    for sublist in data:\n",
    "        children = int(sublist['children'])\n",
    "        charges = float(sublist['charges'])\n",
    "\n",
    "        if children > 0:\n",
    "            category = 'children'\n",
    "        else:\n",
    "            category = 'no children'\n",
    "        \n",
    "        categories[category] += charges\n",
    "        count[category] += 1\n",
    "    \n",
    "    for category in categories:\n",
    "        average = categories[category] / count[category]\n",
    "        print(f\"{count[category]} of patients with {category} has an average insurance costs of ${average:.2f}\")\n",
    "\n",
    "with open('insurance.csv') as insurance_file:\n",
    "    insurance_data = csv.DictReader(insurance_file)\n",
    "    analyze_children_insurance_correlation(insurance_data)\n",
    "    print('Patients with children have a slightly higher cost than patients without one.')\n",
    "        \n"
   ]
  },
  {
   "cell_type": "code",
   "execution_count": null,
   "metadata": {},
   "outputs": [],
   "source": [
    "#############################\n",
    "#### Exploratory Analysis ###\n",
    "#############################\n",
    "\n",
    "# Analyze whether gender affects higher insurance\n",
    "# Calculate the average insurance for each gender"
   ]
  }
 ],
 "metadata": {
  "kernelspec": {
   "display_name": "Python 3",
   "language": "python",
   "name": "python3"
  },
  "language_info": {
   "codemirror_mode": {
    "name": "ipython",
    "version": 3
   },
   "file_extension": ".py",
   "mimetype": "text/x-python",
   "name": "python",
   "nbconvert_exporter": "python",
   "pygments_lexer": "ipython3",
   "version": "3.11.4"
  }
 },
 "nbformat": 4,
 "nbformat_minor": 4
}
