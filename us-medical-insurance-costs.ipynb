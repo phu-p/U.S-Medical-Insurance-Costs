{
 "cells": [
  {
   "cell_type": "markdown",
   "metadata": {},
   "source": [
    "# U.S. Medical Insurance Costs"
   ]
  },
  {
   "cell_type": "code",
   "execution_count": 54,
   "metadata": {},
   "outputs": [
    {
     "name": "stdout",
     "output_type": "stream",
     "text": [
      "The average age of all (1338) patients is 39.0\n"
     ]
    }
   ],
   "source": [
    "#############################\n",
    "#### Descriptive Analysis ###\n",
    "#############################\n",
    "\n",
    "import csv\n",
    "\n",
    "# Find out the average age of the patients\n",
    "def find_average_age_of_patients (list):\n",
    "    total = 0\n",
    "    sum = 0\n",
    "    for sublist in list:\n",
    "        sum += int(sublist['age'])\n",
    "        total += 1\n",
    "    average = round(sum / total, 0)\n",
    "    return print('The average age of all ('+str(total)+') patients is ' + str(average))\n",
    "    \n",
    "\n",
    "with open('insurance.csv') as insurance_file:\n",
    "    insurance_list = csv.DictReader(insurance_file)\n",
    "    find_average_age_of_patients(insurance_list)\n",
    "    "
   ]
  },
  {
   "cell_type": "code",
   "execution_count": 55,
   "metadata": {},
   "outputs": [
    {
     "name": "stdout",
     "output_type": "stream",
     "text": [
      "The average age of (764) patients with at least one child is 40.0\n"
     ]
    }
   ],
   "source": [
    "#############################\n",
    "#### Descriptive Analysis ###\n",
    "#############################\n",
    "\n",
    "# Figure out what the average age is for someone who has at least one child\n",
    "def find_average_age_with_at_least_one_child(list):\n",
    "    # find the patient who has at least one child\n",
    "    # then add the age to a sum variable\n",
    "    # also increment a total variable\n",
    "    # take the sum divide the total variable\n",
    "    # return the average\n",
    "    total = 0\n",
    "    sum = 0\n",
    "    for sublist in list:\n",
    "        if int(sublist['children']) > 0:\n",
    "            sum += int(sublist['age'])\n",
    "            total += 1\n",
    "    average = round(sum / total, 0)\n",
    "    return print('The average age of ('+str(total)+') patients with at least one child is ' + str(average))\n",
    "\n",
    "with open('insurance.csv') as insurance_file:\n",
    "    insurance_list = csv.DictReader(insurance_file)\n",
    "    find_average_age_with_at_least_one_child(insurance_list)\n",
    "    "
   ]
  },
  {
   "cell_type": "code",
   "execution_count": 56,
   "metadata": {},
   "outputs": [
    {
     "name": "stdout",
     "output_type": "stream",
     "text": [
      "The average age of (574) patients with no child is 38.0\n"
     ]
    }
   ],
   "source": [
    "#############################\n",
    "#### Descriptive Analysis ###\n",
    "#############################\n",
    "\n",
    "# Figure out what the average age is for someone who has no child\n",
    "def find_average_age_with_no_child(list):\n",
    "    total = 0\n",
    "    sum = 0\n",
    "    for sublist in list:\n",
    "        if int(sublist['children']) == 0:\n",
    "            sum += int(sublist['age'])\n",
    "            total += 1\n",
    "    average = round(sum / total, 0)\n",
    "    return  print('The average age of ('+str(total)+') patients with no child is ' + str(average))\n",
    "\n",
    "with open('insurance.csv') as insurance_file:\n",
    "    insurance_list = csv.DictReader(insurance_file)\n",
    "    find_average_age_with_no_child(insurance_list)\n",
    "   "
   ]
  },
  {
   "cell_type": "code",
   "execution_count": 46,
   "metadata": {},
   "outputs": [
    {
     "name": "stdout",
     "output_type": "stream",
     "text": [
      "325 patients are from southwest.\n",
      "364 patients are from southeast.\n",
      "325 patients are from northwest.\n",
      "324 patients are from northeast.\n"
     ]
    }
   ],
   "source": [
    "#############################\n",
    "#### Descriptive Analysis ###\n",
    "#############################\n",
    "\n",
    "import csv\n",
    "\n",
    "# Analyze where patients are from:\n",
    "def find_patients_locations():\n",
    "    locations = {}\n",
    "    # Transfer the list of possible locations to a list\n",
    "    # Count the locations list of the duplicate locations\n",
    "    for region in insurance_file:\n",
    "        if locations.get(region['region']) is None:\n",
    "            locations[region['region']] = 1 \n",
    "        else:\n",
    "            locations[region['region']] += 1\n",
    "    return locations\n",
    "    \n",
    "with open('insurance.csv') as insurance_file:\n",
    "    insurance_file = csv.DictReader(insurance_file)\n",
    "    locations_of_patients = find_patients_locations(insurance_file)\n",
    "    for key, value in locations_of_patients.items():\n",
    "        print(str(value) + ' patients are from ' + key + '.')"
   ]
  },
  {
   "cell_type": "code",
   "execution_count": null,
   "metadata": {},
   "outputs": [],
   "source": [
    "#############################\n",
    "#### Exploratory Analysis ###\n",
    "#############################\n",
    "\n",
    "# Analyze whether higher bmi will cause higher charges\n",
    "# Since we don't have heights or weights info from patients, use below ranges for analyzing\n",
    "# < 16 = severe thinnes\n",
    "# 16-17 = moderate thinnes\n",
    "# 17-18.5 = mild thinnes\n",
    "# 18.5-25 = normal\n",
    "# 25-30 = overweight\n",
    "# 30-35 = obese class 1\n",
    "# 35-40 = obese class 2\n",
    "# > 40 = obese class 3\n",
    "def analyze_bmi_insurance_correlation(list):\n",
    "    pass"
   ]
  },
  {
   "cell_type": "code",
   "execution_count": null,
   "metadata": {},
   "outputs": [],
   "source": [
    "#############################\n",
    "#### Exploratory Analysis ###\n",
    "#############################\n",
    "\n",
    "# Analyze whether having children will cause higher charges"
   ]
  },
  {
   "cell_type": "code",
   "execution_count": null,
   "metadata": {},
   "outputs": [],
   "source": [
    "#############################\n",
    "#### Exploratory Analysis ###\n",
    "#############################\n",
    "\n",
    "# Analyze whether gender affects higher insurance\n",
    "# Calculate the average insurance for each gender"
   ]
  }
 ],
 "metadata": {
  "kernelspec": {
   "display_name": "Python 3",
   "language": "python",
   "name": "python3"
  },
  "language_info": {
   "codemirror_mode": {
    "name": "ipython",
    "version": 3
   },
   "file_extension": ".py",
   "mimetype": "text/x-python",
   "name": "python",
   "nbconvert_exporter": "python",
   "pygments_lexer": "ipython3",
   "version": "3.11.4"
  }
 },
 "nbformat": 4,
 "nbformat_minor": 4
}
