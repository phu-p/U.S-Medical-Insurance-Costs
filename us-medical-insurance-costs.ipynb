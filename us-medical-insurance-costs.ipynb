{
 "cells": [
  {
   "cell_type": "markdown",
   "metadata": {},
   "source": [
    "# U.S. Medical Insurance Costs"
   ]
  },
  {
   "cell_type": "code",
   "execution_count": 12,
   "metadata": {},
   "outputs": [
    {
     "name": "stdout",
     "output_type": "stream",
     "text": [
      "The average age of the patients is 39.0\n"
     ]
    }
   ],
   "source": [
    "#############################\n",
    "#### Descriptive Analysis ###\n",
    "#############################\n",
    "\n",
    "import csv\n",
    "\n",
    "# Find out the average age of the patients\n",
    "def find_average_age_of_patients (list):\n",
    "    total = 0\n",
    "    sum = 0\n",
    "    for sublist in list:\n",
    "        sum += int(sublist['age'])\n",
    "        total += 1\n",
    "    return round(sum / total, 0)\n",
    "    \n",
    "\n",
    "with open('insurance.csv') as insurance_file:\n",
    "    insurance_list = csv.DictReader(insurance_file)\n",
    "    average_age = find_average_age_of_patients(insurance_list)\n",
    "    print('The average age of the patients is ' + str(average_age))"
   ]
  },
  {
   "cell_type": "code",
   "execution_count": 14,
   "metadata": {},
   "outputs": [
    {
     "name": "stdout",
     "output_type": "stream",
     "text": [
      "The average age of the patients with at least one child is 40.0\n"
     ]
    }
   ],
   "source": [
    "#############################\n",
    "#### Descriptive Analysis ###\n",
    "#############################\n",
    "\n",
    "# Figure out what the average age is for someone who has at least one child\n",
    "def find_average_age_with_at_least_one_child(list):\n",
    "    # find the patient who has at least one child\n",
    "    # then add the age to a sum variable\n",
    "    # also increment a total variable\n",
    "    # take the sum divide the total variable\n",
    "    # return the average\n",
    "    total = 0\n",
    "    sum = 0\n",
    "    for sublist in list:\n",
    "        if int(sublist['children']) > 0:\n",
    "            sum += int(sublist['age'])\n",
    "            total += 1\n",
    "    return round(sum / total, 0)\n",
    "\n",
    "with open('insurance.csv') as insurance_file:\n",
    "    insurance_list = csv.DictReader(insurance_file)\n",
    "    average_age_with_at_least_one_child = find_average_age_with_at_least_one_child(insurance_list)\n",
    "    print('The average age of the patients with at least one child is ' + str(average_age_with_at_least_one_child))\n"
   ]
  },
  {
   "cell_type": "code",
   "execution_count": 15,
   "metadata": {},
   "outputs": [
    {
     "name": "stdout",
     "output_type": "stream",
     "text": [
      "The average age of the patients with no child is 38.0\n"
     ]
    }
   ],
   "source": [
    "#############################\n",
    "#### Descriptive Analysis ###\n",
    "#############################\n",
    "\n",
    "# Figure out what the average age is for someone who has no child\n",
    "def find_average_age_with_no_child(list):\n",
    "    total = 0\n",
    "    sum = 0\n",
    "    for sublist in list:\n",
    "        if int(sublist['children']) == 0:\n",
    "            sum += int(sublist['age'])\n",
    "            total += 1\n",
    "    return round(sum / total, 0)\n",
    "\n",
    "with open('insurance.csv') as insurance_file:\n",
    "    insurance_list = csv.DictReader(insurance_file)\n",
    "    average_age_with_no_child = find_average_age_with_no_child(insurance_list)\n",
    "    print('The average age of the patients with no child is ' + str(average_age_with_no_child))"
   ]
  },
  {
   "cell_type": "code",
   "execution_count": 46,
   "metadata": {},
   "outputs": [
    {
     "name": "stdout",
     "output_type": "stream",
     "text": [
      "325 patients are from southwest.\n",
      "364 patients are from southeast.\n",
      "325 patients are from northwest.\n",
      "324 patients are from northeast.\n"
     ]
    }
   ],
   "source": [
    "#############################\n",
    "#### Demographic Analysis ###\n",
    "#############################\n",
    "\n",
    "import csv\n",
    "\n",
    "# Analyze where patients are from:\n",
    "def find_patients_locations(list):\n",
    "    locations = {}\n",
    "    # Transfer the list of possible locations to a list\n",
    "    # Count the locations list of the duplicate locations\n",
    "    for region in insurance_file:\n",
    "        if locations.get(region['region']) is None:\n",
    "            locations[region['region']] = 1 \n",
    "        else:\n",
    "            locations[region['region']] += 1\n",
    "    return locations\n",
    "    \n",
    "with open('insurance.csv') as insurance_file:\n",
    "    insurance_file = csv.DictReader(insurance_file)\n",
    "    locations_of_patients = find_patients_locations(insurance_file)\n",
    "    for key, value in locations_of_patients.items():\n",
    "        print(str(value) + ' patients are from ' + key + '.')"
   ]
  }
 ],
 "metadata": {
  "kernelspec": {
   "display_name": "Python 3",
   "language": "python",
   "name": "python3"
  },
  "language_info": {
   "codemirror_mode": {
    "name": "ipython",
    "version": 3
   },
   "file_extension": ".py",
   "mimetype": "text/x-python",
   "name": "python",
   "nbconvert_exporter": "python",
   "pygments_lexer": "ipython3",
   "version": "3.11.4"
  }
 },
 "nbformat": 4,
 "nbformat_minor": 4
}
